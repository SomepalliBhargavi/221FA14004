{
  "nbformat": 4,
  "nbformat_minor": 0,
  "metadata": {
    "colab": {
      "provenance": []
    },
    "kernelspec": {
      "name": "python3",
      "display_name": "Python 3"
    },
    "language_info": {
      "name": "python"
    }
  },
  "cells": [
    {
      "cell_type": "code",
      "execution_count": null,
      "metadata": {
        "id": "BARE1CAoRuo0"
      },
      "outputs": [],
      "source": [
        "import pandas as pd"
      ]
    },
    {
      "cell_type": "code",
      "source": [
        "df=pd.read_csv(\"/content/NYC Taxi Data.csv\")"
      ],
      "metadata": {
        "id": "2IIZ7uHpSMOE"
      },
      "execution_count": null,
      "outputs": []
    },
    {
      "cell_type": "code",
      "source": [
        "df"
      ],
      "metadata": {
        "colab": {
          "base_uri": "https://localhost:8080/",
          "height": 617
        },
        "id": "k4hNispPSc1T",
        "outputId": "6f61b876-eb24-40eb-897a-0f0631e72d6a"
      },
      "execution_count": null,
      "outputs": [
        {
          "output_type": "execute_result",
          "data": {
            "text/plain": [
              "                id  vendor_id      pickup_datetime     dropoff_datetime  \\\n",
              "0        id2875421          2  2016-03-14 17:24:55  2016-03-14 17:32:30   \n",
              "1        id2377394          1  2016-06-12 00:43:35  2016-06-12 00:54:38   \n",
              "2        id3858529          2  2016-01-19 11:35:24  2016-01-19 12:10:48   \n",
              "3        id3504673          2  2016-04-06 19:32:31  2016-04-06 19:39:40   \n",
              "4        id2181028          2  2016-03-26 13:30:55  2016-03-26 13:38:10   \n",
              "...            ...        ...                  ...                  ...   \n",
              "1458639  id2376096          2  2016-04-08 13:31:04  2016-04-08 13:44:02   \n",
              "1458640  id1049543          1  2016-01-10 07:35:15  2016-01-10 07:46:10   \n",
              "1458641  id2304944          2  2016-04-22 06:57:41  2016-04-22 07:10:25   \n",
              "1458642  id2714485          1  2016-01-05 15:56:26  2016-01-05 16:02:39   \n",
              "1458643  id1209952          1  2016-04-05 14:44:25  2016-04-05 14:47:43   \n",
              "\n",
              "         passenger_count  pickup_longitude  pickup_latitude  \\\n",
              "0                      1        -73.982155        40.767937   \n",
              "1                      1        -73.980415        40.738564   \n",
              "2                      1        -73.979027        40.763939   \n",
              "3                      1        -74.010040        40.719971   \n",
              "4                      1        -73.973053        40.793209   \n",
              "...                  ...               ...              ...   \n",
              "1458639                4        -73.982201        40.745522   \n",
              "1458640                1        -74.000946        40.747379   \n",
              "1458641                1        -73.959129        40.768799   \n",
              "1458642                1        -73.982079        40.749062   \n",
              "1458643                1        -73.979538        40.781750   \n",
              "\n",
              "         dropoff_longitude  dropoff_latitude store_and_fwd_flag  trip_duration  \n",
              "0               -73.964630         40.765602                  N            455  \n",
              "1               -73.999481         40.731152                  N            663  \n",
              "2               -74.005333         40.710087                  N           2124  \n",
              "3               -74.012268         40.706718                  N            429  \n",
              "4               -73.972923         40.782520                  N            435  \n",
              "...                    ...               ...                ...            ...  \n",
              "1458639         -73.994911         40.740170                  N            778  \n",
              "1458640         -73.970184         40.796547                  N            655  \n",
              "1458641         -74.004433         40.707371                  N            764  \n",
              "1458642         -73.974632         40.757107                  N            373  \n",
              "1458643         -73.972809         40.790585                  N            198  \n",
              "\n",
              "[1458644 rows x 11 columns]"
            ],
            "text/html": [
              "\n",
              "  <div id=\"df-27cb4f4b-5b1d-4f3b-bc1e-c62f088db18d\" class=\"colab-df-container\">\n",
              "    <div>\n",
              "<style scoped>\n",
              "    .dataframe tbody tr th:only-of-type {\n",
              "        vertical-align: middle;\n",
              "    }\n",
              "\n",
              "    .dataframe tbody tr th {\n",
              "        vertical-align: top;\n",
              "    }\n",
              "\n",
              "    .dataframe thead th {\n",
              "        text-align: right;\n",
              "    }\n",
              "</style>\n",
              "<table border=\"1\" class=\"dataframe\">\n",
              "  <thead>\n",
              "    <tr style=\"text-align: right;\">\n",
              "      <th></th>\n",
              "      <th>id</th>\n",
              "      <th>vendor_id</th>\n",
              "      <th>pickup_datetime</th>\n",
              "      <th>dropoff_datetime</th>\n",
              "      <th>passenger_count</th>\n",
              "      <th>pickup_longitude</th>\n",
              "      <th>pickup_latitude</th>\n",
              "      <th>dropoff_longitude</th>\n",
              "      <th>dropoff_latitude</th>\n",
              "      <th>store_and_fwd_flag</th>\n",
              "      <th>trip_duration</th>\n",
              "    </tr>\n",
              "  </thead>\n",
              "  <tbody>\n",
              "    <tr>\n",
              "      <th>0</th>\n",
              "      <td>id2875421</td>\n",
              "      <td>2</td>\n",
              "      <td>2016-03-14 17:24:55</td>\n",
              "      <td>2016-03-14 17:32:30</td>\n",
              "      <td>1</td>\n",
              "      <td>-73.982155</td>\n",
              "      <td>40.767937</td>\n",
              "      <td>-73.964630</td>\n",
              "      <td>40.765602</td>\n",
              "      <td>N</td>\n",
              "      <td>455</td>\n",
              "    </tr>\n",
              "    <tr>\n",
              "      <th>1</th>\n",
              "      <td>id2377394</td>\n",
              "      <td>1</td>\n",
              "      <td>2016-06-12 00:43:35</td>\n",
              "      <td>2016-06-12 00:54:38</td>\n",
              "      <td>1</td>\n",
              "      <td>-73.980415</td>\n",
              "      <td>40.738564</td>\n",
              "      <td>-73.999481</td>\n",
              "      <td>40.731152</td>\n",
              "      <td>N</td>\n",
              "      <td>663</td>\n",
              "    </tr>\n",
              "    <tr>\n",
              "      <th>2</th>\n",
              "      <td>id3858529</td>\n",
              "      <td>2</td>\n",
              "      <td>2016-01-19 11:35:24</td>\n",
              "      <td>2016-01-19 12:10:48</td>\n",
              "      <td>1</td>\n",
              "      <td>-73.979027</td>\n",
              "      <td>40.763939</td>\n",
              "      <td>-74.005333</td>\n",
              "      <td>40.710087</td>\n",
              "      <td>N</td>\n",
              "      <td>2124</td>\n",
              "    </tr>\n",
              "    <tr>\n",
              "      <th>3</th>\n",
              "      <td>id3504673</td>\n",
              "      <td>2</td>\n",
              "      <td>2016-04-06 19:32:31</td>\n",
              "      <td>2016-04-06 19:39:40</td>\n",
              "      <td>1</td>\n",
              "      <td>-74.010040</td>\n",
              "      <td>40.719971</td>\n",
              "      <td>-74.012268</td>\n",
              "      <td>40.706718</td>\n",
              "      <td>N</td>\n",
              "      <td>429</td>\n",
              "    </tr>\n",
              "    <tr>\n",
              "      <th>4</th>\n",
              "      <td>id2181028</td>\n",
              "      <td>2</td>\n",
              "      <td>2016-03-26 13:30:55</td>\n",
              "      <td>2016-03-26 13:38:10</td>\n",
              "      <td>1</td>\n",
              "      <td>-73.973053</td>\n",
              "      <td>40.793209</td>\n",
              "      <td>-73.972923</td>\n",
              "      <td>40.782520</td>\n",
              "      <td>N</td>\n",
              "      <td>435</td>\n",
              "    </tr>\n",
              "    <tr>\n",
              "      <th>...</th>\n",
              "      <td>...</td>\n",
              "      <td>...</td>\n",
              "      <td>...</td>\n",
              "      <td>...</td>\n",
              "      <td>...</td>\n",
              "      <td>...</td>\n",
              "      <td>...</td>\n",
              "      <td>...</td>\n",
              "      <td>...</td>\n",
              "      <td>...</td>\n",
              "      <td>...</td>\n",
              "    </tr>\n",
              "    <tr>\n",
              "      <th>1458639</th>\n",
              "      <td>id2376096</td>\n",
              "      <td>2</td>\n",
              "      <td>2016-04-08 13:31:04</td>\n",
              "      <td>2016-04-08 13:44:02</td>\n",
              "      <td>4</td>\n",
              "      <td>-73.982201</td>\n",
              "      <td>40.745522</td>\n",
              "      <td>-73.994911</td>\n",
              "      <td>40.740170</td>\n",
              "      <td>N</td>\n",
              "      <td>778</td>\n",
              "    </tr>\n",
              "    <tr>\n",
              "      <th>1458640</th>\n",
              "      <td>id1049543</td>\n",
              "      <td>1</td>\n",
              "      <td>2016-01-10 07:35:15</td>\n",
              "      <td>2016-01-10 07:46:10</td>\n",
              "      <td>1</td>\n",
              "      <td>-74.000946</td>\n",
              "      <td>40.747379</td>\n",
              "      <td>-73.970184</td>\n",
              "      <td>40.796547</td>\n",
              "      <td>N</td>\n",
              "      <td>655</td>\n",
              "    </tr>\n",
              "    <tr>\n",
              "      <th>1458641</th>\n",
              "      <td>id2304944</td>\n",
              "      <td>2</td>\n",
              "      <td>2016-04-22 06:57:41</td>\n",
              "      <td>2016-04-22 07:10:25</td>\n",
              "      <td>1</td>\n",
              "      <td>-73.959129</td>\n",
              "      <td>40.768799</td>\n",
              "      <td>-74.004433</td>\n",
              "      <td>40.707371</td>\n",
              "      <td>N</td>\n",
              "      <td>764</td>\n",
              "    </tr>\n",
              "    <tr>\n",
              "      <th>1458642</th>\n",
              "      <td>id2714485</td>\n",
              "      <td>1</td>\n",
              "      <td>2016-01-05 15:56:26</td>\n",
              "      <td>2016-01-05 16:02:39</td>\n",
              "      <td>1</td>\n",
              "      <td>-73.982079</td>\n",
              "      <td>40.749062</td>\n",
              "      <td>-73.974632</td>\n",
              "      <td>40.757107</td>\n",
              "      <td>N</td>\n",
              "      <td>373</td>\n",
              "    </tr>\n",
              "    <tr>\n",
              "      <th>1458643</th>\n",
              "      <td>id1209952</td>\n",
              "      <td>1</td>\n",
              "      <td>2016-04-05 14:44:25</td>\n",
              "      <td>2016-04-05 14:47:43</td>\n",
              "      <td>1</td>\n",
              "      <td>-73.979538</td>\n",
              "      <td>40.781750</td>\n",
              "      <td>-73.972809</td>\n",
              "      <td>40.790585</td>\n",
              "      <td>N</td>\n",
              "      <td>198</td>\n",
              "    </tr>\n",
              "  </tbody>\n",
              "</table>\n",
              "<p>1458644 rows × 11 columns</p>\n",
              "</div>\n",
              "    <div class=\"colab-df-buttons\">\n",
              "\n",
              "  <div class=\"colab-df-container\">\n",
              "    <button class=\"colab-df-convert\" onclick=\"convertToInteractive('df-27cb4f4b-5b1d-4f3b-bc1e-c62f088db18d')\"\n",
              "            title=\"Convert this dataframe to an interactive table.\"\n",
              "            style=\"display:none;\">\n",
              "\n",
              "  <svg xmlns=\"http://www.w3.org/2000/svg\" height=\"24px\" viewBox=\"0 -960 960 960\">\n",
              "    <path d=\"M120-120v-720h720v720H120Zm60-500h600v-160H180v160Zm220 220h160v-160H400v160Zm0 220h160v-160H400v160ZM180-400h160v-160H180v160Zm440 0h160v-160H620v160ZM180-180h160v-160H180v160Zm440 0h160v-160H620v160Z\"/>\n",
              "  </svg>\n",
              "    </button>\n",
              "\n",
              "  <style>\n",
              "    .colab-df-container {\n",
              "      display:flex;\n",
              "      gap: 12px;\n",
              "    }\n",
              "\n",
              "    .colab-df-convert {\n",
              "      background-color: #E8F0FE;\n",
              "      border: none;\n",
              "      border-radius: 50%;\n",
              "      cursor: pointer;\n",
              "      display: none;\n",
              "      fill: #1967D2;\n",
              "      height: 32px;\n",
              "      padding: 0 0 0 0;\n",
              "      width: 32px;\n",
              "    }\n",
              "\n",
              "    .colab-df-convert:hover {\n",
              "      background-color: #E2EBFA;\n",
              "      box-shadow: 0px 1px 2px rgba(60, 64, 67, 0.3), 0px 1px 3px 1px rgba(60, 64, 67, 0.15);\n",
              "      fill: #174EA6;\n",
              "    }\n",
              "\n",
              "    .colab-df-buttons div {\n",
              "      margin-bottom: 4px;\n",
              "    }\n",
              "\n",
              "    [theme=dark] .colab-df-convert {\n",
              "      background-color: #3B4455;\n",
              "      fill: #D2E3FC;\n",
              "    }\n",
              "\n",
              "    [theme=dark] .colab-df-convert:hover {\n",
              "      background-color: #434B5C;\n",
              "      box-shadow: 0px 1px 3px 1px rgba(0, 0, 0, 0.15);\n",
              "      filter: drop-shadow(0px 1px 2px rgba(0, 0, 0, 0.3));\n",
              "      fill: #FFFFFF;\n",
              "    }\n",
              "  </style>\n",
              "\n",
              "    <script>\n",
              "      const buttonEl =\n",
              "        document.querySelector('#df-27cb4f4b-5b1d-4f3b-bc1e-c62f088db18d button.colab-df-convert');\n",
              "      buttonEl.style.display =\n",
              "        google.colab.kernel.accessAllowed ? 'block' : 'none';\n",
              "\n",
              "      async function convertToInteractive(key) {\n",
              "        const element = document.querySelector('#df-27cb4f4b-5b1d-4f3b-bc1e-c62f088db18d');\n",
              "        const dataTable =\n",
              "          await google.colab.kernel.invokeFunction('convertToInteractive',\n",
              "                                                    [key], {});\n",
              "        if (!dataTable) return;\n",
              "\n",
              "        const docLinkHtml = 'Like what you see? Visit the ' +\n",
              "          '<a target=\"_blank\" href=https://colab.research.google.com/notebooks/data_table.ipynb>data table notebook</a>'\n",
              "          + ' to learn more about interactive tables.';\n",
              "        element.innerHTML = '';\n",
              "        dataTable['output_type'] = 'display_data';\n",
              "        await google.colab.output.renderOutput(dataTable, element);\n",
              "        const docLink = document.createElement('div');\n",
              "        docLink.innerHTML = docLinkHtml;\n",
              "        element.appendChild(docLink);\n",
              "      }\n",
              "    </script>\n",
              "  </div>\n",
              "\n",
              "\n",
              "<div id=\"df-ac5d7b54-d5a0-44eb-8145-71c9dfb831c9\">\n",
              "  <button class=\"colab-df-quickchart\" onclick=\"quickchart('df-ac5d7b54-d5a0-44eb-8145-71c9dfb831c9')\"\n",
              "            title=\"Suggest charts\"\n",
              "            style=\"display:none;\">\n",
              "\n",
              "<svg xmlns=\"http://www.w3.org/2000/svg\" height=\"24px\"viewBox=\"0 0 24 24\"\n",
              "     width=\"24px\">\n",
              "    <g>\n",
              "        <path d=\"M19 3H5c-1.1 0-2 .9-2 2v14c0 1.1.9 2 2 2h14c1.1 0 2-.9 2-2V5c0-1.1-.9-2-2-2zM9 17H7v-7h2v7zm4 0h-2V7h2v10zm4 0h-2v-4h2v4z\"/>\n",
              "    </g>\n",
              "</svg>\n",
              "  </button>\n",
              "\n",
              "<style>\n",
              "  .colab-df-quickchart {\n",
              "      --bg-color: #E8F0FE;\n",
              "      --fill-color: #1967D2;\n",
              "      --hover-bg-color: #E2EBFA;\n",
              "      --hover-fill-color: #174EA6;\n",
              "      --disabled-fill-color: #AAA;\n",
              "      --disabled-bg-color: #DDD;\n",
              "  }\n",
              "\n",
              "  [theme=dark] .colab-df-quickchart {\n",
              "      --bg-color: #3B4455;\n",
              "      --fill-color: #D2E3FC;\n",
              "      --hover-bg-color: #434B5C;\n",
              "      --hover-fill-color: #FFFFFF;\n",
              "      --disabled-bg-color: #3B4455;\n",
              "      --disabled-fill-color: #666;\n",
              "  }\n",
              "\n",
              "  .colab-df-quickchart {\n",
              "    background-color: var(--bg-color);\n",
              "    border: none;\n",
              "    border-radius: 50%;\n",
              "    cursor: pointer;\n",
              "    display: none;\n",
              "    fill: var(--fill-color);\n",
              "    height: 32px;\n",
              "    padding: 0;\n",
              "    width: 32px;\n",
              "  }\n",
              "\n",
              "  .colab-df-quickchart:hover {\n",
              "    background-color: var(--hover-bg-color);\n",
              "    box-shadow: 0 1px 2px rgba(60, 64, 67, 0.3), 0 1px 3px 1px rgba(60, 64, 67, 0.15);\n",
              "    fill: var(--button-hover-fill-color);\n",
              "  }\n",
              "\n",
              "  .colab-df-quickchart-complete:disabled,\n",
              "  .colab-df-quickchart-complete:disabled:hover {\n",
              "    background-color: var(--disabled-bg-color);\n",
              "    fill: var(--disabled-fill-color);\n",
              "    box-shadow: none;\n",
              "  }\n",
              "\n",
              "  .colab-df-spinner {\n",
              "    border: 2px solid var(--fill-color);\n",
              "    border-color: transparent;\n",
              "    border-bottom-color: var(--fill-color);\n",
              "    animation:\n",
              "      spin 1s steps(1) infinite;\n",
              "  }\n",
              "\n",
              "  @keyframes spin {\n",
              "    0% {\n",
              "      border-color: transparent;\n",
              "      border-bottom-color: var(--fill-color);\n",
              "      border-left-color: var(--fill-color);\n",
              "    }\n",
              "    20% {\n",
              "      border-color: transparent;\n",
              "      border-left-color: var(--fill-color);\n",
              "      border-top-color: var(--fill-color);\n",
              "    }\n",
              "    30% {\n",
              "      border-color: transparent;\n",
              "      border-left-color: var(--fill-color);\n",
              "      border-top-color: var(--fill-color);\n",
              "      border-right-color: var(--fill-color);\n",
              "    }\n",
              "    40% {\n",
              "      border-color: transparent;\n",
              "      border-right-color: var(--fill-color);\n",
              "      border-top-color: var(--fill-color);\n",
              "    }\n",
              "    60% {\n",
              "      border-color: transparent;\n",
              "      border-right-color: var(--fill-color);\n",
              "    }\n",
              "    80% {\n",
              "      border-color: transparent;\n",
              "      border-right-color: var(--fill-color);\n",
              "      border-bottom-color: var(--fill-color);\n",
              "    }\n",
              "    90% {\n",
              "      border-color: transparent;\n",
              "      border-bottom-color: var(--fill-color);\n",
              "    }\n",
              "  }\n",
              "</style>\n",
              "\n",
              "  <script>\n",
              "    async function quickchart(key) {\n",
              "      const quickchartButtonEl =\n",
              "        document.querySelector('#' + key + ' button');\n",
              "      quickchartButtonEl.disabled = true;  // To prevent multiple clicks.\n",
              "      quickchartButtonEl.classList.add('colab-df-spinner');\n",
              "      try {\n",
              "        const charts = await google.colab.kernel.invokeFunction(\n",
              "            'suggestCharts', [key], {});\n",
              "      } catch (error) {\n",
              "        console.error('Error during call to suggestCharts:', error);\n",
              "      }\n",
              "      quickchartButtonEl.classList.remove('colab-df-spinner');\n",
              "      quickchartButtonEl.classList.add('colab-df-quickchart-complete');\n",
              "    }\n",
              "    (() => {\n",
              "      let quickchartButtonEl =\n",
              "        document.querySelector('#df-ac5d7b54-d5a0-44eb-8145-71c9dfb831c9 button');\n",
              "      quickchartButtonEl.style.display =\n",
              "        google.colab.kernel.accessAllowed ? 'block' : 'none';\n",
              "    })();\n",
              "  </script>\n",
              "</div>\n",
              "\n",
              "  <div id=\"id_7bf49c5a-9bf1-4f79-9d23-12032405b040\">\n",
              "    <style>\n",
              "      .colab-df-generate {\n",
              "        background-color: #E8F0FE;\n",
              "        border: none;\n",
              "        border-radius: 50%;\n",
              "        cursor: pointer;\n",
              "        display: none;\n",
              "        fill: #1967D2;\n",
              "        height: 32px;\n",
              "        padding: 0 0 0 0;\n",
              "        width: 32px;\n",
              "      }\n",
              "\n",
              "      .colab-df-generate:hover {\n",
              "        background-color: #E2EBFA;\n",
              "        box-shadow: 0px 1px 2px rgba(60, 64, 67, 0.3), 0px 1px 3px 1px rgba(60, 64, 67, 0.15);\n",
              "        fill: #174EA6;\n",
              "      }\n",
              "\n",
              "      [theme=dark] .colab-df-generate {\n",
              "        background-color: #3B4455;\n",
              "        fill: #D2E3FC;\n",
              "      }\n",
              "\n",
              "      [theme=dark] .colab-df-generate:hover {\n",
              "        background-color: #434B5C;\n",
              "        box-shadow: 0px 1px 3px 1px rgba(0, 0, 0, 0.15);\n",
              "        filter: drop-shadow(0px 1px 2px rgba(0, 0, 0, 0.3));\n",
              "        fill: #FFFFFF;\n",
              "      }\n",
              "    </style>\n",
              "    <button class=\"colab-df-generate\" onclick=\"generateWithVariable('df')\"\n",
              "            title=\"Generate code using this dataframe.\"\n",
              "            style=\"display:none;\">\n",
              "\n",
              "  <svg xmlns=\"http://www.w3.org/2000/svg\" height=\"24px\"viewBox=\"0 0 24 24\"\n",
              "       width=\"24px\">\n",
              "    <path d=\"M7,19H8.4L18.45,9,17,7.55,7,17.6ZM5,21V16.75L18.45,3.32a2,2,0,0,1,2.83,0l1.4,1.43a1.91,1.91,0,0,1,.58,1.4,1.91,1.91,0,0,1-.58,1.4L9.25,21ZM18.45,9,17,7.55Zm-12,3A5.31,5.31,0,0,0,4.9,8.1,5.31,5.31,0,0,0,1,6.5,5.31,5.31,0,0,0,4.9,4.9,5.31,5.31,0,0,0,6.5,1,5.31,5.31,0,0,0,8.1,4.9,5.31,5.31,0,0,0,12,6.5,5.46,5.46,0,0,0,6.5,12Z\"/>\n",
              "  </svg>\n",
              "    </button>\n",
              "    <script>\n",
              "      (() => {\n",
              "      const buttonEl =\n",
              "        document.querySelector('#id_7bf49c5a-9bf1-4f79-9d23-12032405b040 button.colab-df-generate');\n",
              "      buttonEl.style.display =\n",
              "        google.colab.kernel.accessAllowed ? 'block' : 'none';\n",
              "\n",
              "      buttonEl.onclick = () => {\n",
              "        google.colab.notebook.generateWithVariable('df');\n",
              "      }\n",
              "      })();\n",
              "    </script>\n",
              "  </div>\n",
              "\n",
              "    </div>\n",
              "  </div>\n"
            ],
            "application/vnd.google.colaboratory.intrinsic+json": {
              "type": "dataframe",
              "variable_name": "df"
            }
          },
          "metadata": {},
          "execution_count": 3
        }
      ]
    },
    {
      "cell_type": "code",
      "source": [
        "# prompt: from the above data in the file give me linear regression between pickup_latitude and dropoff_longitude in python and also represent the title in that graph\n",
        "\n",
        "import matplotlib.pyplot as plt\n",
        "import seaborn as sns\n",
        "from sklearn.linear_model import LinearRegression\n",
        "import pandas as pd # import pandas\n",
        "\n",
        "# Create a scatter plot\n",
        "plt.figure(figsize=(10, 6))\n",
        "sns.scatterplot(x='pickup_latitude', y='dropoff_longitude', data=df)\n",
        "\n",
        "# Fit a linear regression model\n",
        "X = df[['pickup_latitude']].dropna() # drop rows with NaN in 'pickup_latitude'\n",
        "y = df['dropoff_longitude'].dropna() # drop rows with NaN in 'dropoff_longitude'\n",
        "model = LinearRegression()\n",
        "model.fit(X, y)\n",
        "\n",
        "# Plot the regression line\n",
        "plt.plot(X, model.predict(X), color='red')\n",
        "\n",
        "# Add title and labels\n",
        "plt.title('Linear Regression between Pickup Latitude and Dropoff Longitude')\n",
        "plt.xlabel('Pickup Latitude')\n",
        "plt.ylabel('Dropoff Longitude')\n",
        "\n",
        "plt.show()\n"
      ],
      "metadata": {
        "colab": {
          "base_uri": "https://localhost:8080/",
          "height": 564
        },
        "id": "arsLVHDW2Enh",
        "outputId": "1f1b2520-d365-44af-b4f0-0bb1f28c1601"
      },
      "execution_count": null,
      "outputs": [
        {
          "output_type": "display_data",
          "data": {
            "text/plain": [
              "<Figure size 1000x600 with 1 Axes>"
            ],
            "image/png": "[encoded data removed]"
          },
          "metadata": {}
        }
      ]
    },
    {
      "cell_type": "code",
      "source": [
        "# prompt: MSC\n",
        "\n",
        "# Calculate the mean squared error (MSE)\n",
        "from sklearn.metrics import mean_squared_error\n",
        "y_pred = model.predict(X)\n",
        "mse = mean_squared_error(y, y_pred)\n",
        "print(f\"Mean Squared Error (MSE): {mse}\")\n"
      ],
      "metadata": {
        "colab": {
          "base_uri": "https://localhost:8080/"
        },
        "id": "S0aQwpb90Svw",
        "outputId": "b61bd861-fcad-49bd-b7ba-171ec5496768"
      },
      "execution_count": null,
      "outputs": [
        {
          "output_type": "stream",
          "name": "stdout",
          "text": [
            "Mean Squared Error (MSE): 0.004924601913562645\n"
          ]
        }
      ]
    },
    {
      "cell_type": "code",
      "source": [
        "# prompt: RMSE\n",
        "\n",
        "import math\n",
        "\n",
        "# Calculate the root mean squared error (RMSE)\n",
        "rmse = math.sqrt(mse)\n",
        "print(f\"Root Mean Squared Error (RMSE): {rmse}\")\n"
      ],
      "metadata": {
        "colab": {
          "base_uri": "https://localhost:8080/"
        },
        "id": "UFnG7qpW0mbp",
        "outputId": "a63cadd5-d792-4b63-d78b-24cd2b79aacc"
      },
      "execution_count": null,
      "outputs": [
        {
          "output_type": "stream",
          "name": "stdout",
          "text": [
            "Root Mean Squared Error (RMSE): 0.0701755079323452\n"
          ]
        }
      ]
    },
    {
      "cell_type": "code",
      "source": [
        "# prompt: r-square\n",
        "\n",
        "from sklearn.metrics import r2_score\n",
        "\n",
        "# Calculate the R-squared value\n",
        "r_squared = r2_score(y, y_pred)\n",
        "print(f\"R-squared: {r_squared}\")\n"
      ],
      "metadata": {
        "colab": {
          "base_uri": "https://localhost:8080/"
        },
        "id": "Zfb1ZobV0vkZ",
        "outputId": "44304808-2b2b-42c8-e426-27e2b370a5b2"
      },
      "execution_count": null,
      "outputs": [
        {
          "output_type": "stream",
          "name": "stdout",
          "text": [
            "R-squared: 0.01319836011783082\n"
          ]
        }
      ]
    },
    {
      "cell_type": "code",
      "source": [
        "# prompt: MAE\n",
        "\n",
        "from sklearn.metrics import mean_absolute_error\n",
        "\n",
        "# Calculate the Mean Absolute Error (MAE)\n",
        "mae = mean_absolute_error(y, y_pred)\n",
        "print(f\"Mean Absolute Error (MAE): {mae}\")\n"
      ],
      "metadata": {
        "colab": {
          "base_uri": "https://localhost:8080/"
        },
        "id": "e-FaIBaY015m",
        "outputId": "6da32c05-f7df-4cfe-b0ce-11b5be1f35b7"
      },
      "execution_count": null,
      "outputs": [
        {
          "output_type": "stream",
          "name": "stdout",
          "text": [
            "Mean Absolute Error (MAE): 0.02139923714094883\n"
          ]
        }
      ]
    },
    {
      "cell_type": "code",
      "source": [
        "# prompt: from the  data in the file give me linear regression between pickup_longitude and dropoff_longitude in python and also represent the title in that graph\n",
        "\n",
        "import matplotlib.pyplot as plt\n",
        "import seaborn as sns # import seaborn for scatterplot\n",
        "from sklearn.linear_model import LinearRegression\n",
        "import pandas as pd # import pandas\n",
        "\n",
        "# Create a scatter plot\n",
        "plt.figure(figsize=(10, 6))\n",
        "sns.scatterplot(x='pickup_longitude', y='dropoff_longitude', data=df)\n",
        "\n",
        "# Fit a linear regression model\n",
        "df_cleaned = df.dropna(subset=['pickup_longitude', 'dropoff_longitude']) # drop rows with NaN in 'pickup_longitude' and 'dropoff_longitude'\n",
        "X = df_cleaned[['pickup_longitude']]\n",
        "y = df_cleaned['dropoff_longitude']\n",
        "model = LinearRegression()\n",
        "model.fit(X, y)\n",
        "\n",
        "# Plot the regression line\n",
        "plt.plot(X, model.predict(X), color='red')\n",
        "\n",
        "# Add title and labels\n",
        "plt.title('Linear Regression between Pickup Longitude and Dropoff Longitude')\n",
        "plt.xlabel('Pickup Longitude')\n",
        "plt.ylabel('Dropoff Longitude')\n",
        "\n",
        "plt.show()"
      ],
      "metadata": {
        "colab": {
          "base_uri": "https://localhost:8080/",
          "height": 564
        },
        "id": "nuLx_z0w2gdL",
        "outputId": "7b16575f-aedd-49bc-bd5a-641360eb0e5d"
      },
      "execution_count": null,
      "outputs": [
        {
          "output_type": "display_data",
          "data": {
            "text/plain": [
              "<Figure size 1000x600 with 1 Axes>"
            ],
            "image/png": "[encoded data removed]"
          },
          "metadata": {}
        }
      ]
    },
    {
      "cell_type": "code",
      "source": [
        "# prompt: MSE\n",
        "\n",
        "# Calculate the mean squared error (MSE)\n",
        "y_pred = model.predict(X)\n",
        "mse = mean_squared_error(y, y_pred)\n",
        "print(f\"Mean Squared Error (MSE): {mse}\")\n"
      ],
      "metadata": {
        "colab": {
          "base_uri": "https://localhost:8080/"
        },
        "id": "7U-k1hIf1CvW",
        "outputId": "52cf2d0e-5d82-48c9-ffad-3eed63cf9ea5"
      },
      "execution_count": null,
      "outputs": [
        {
          "output_type": "stream",
          "name": "stdout",
          "text": [
            "Mean Squared Error (MSE): 0.0019263169514773327\n"
          ]
        }
      ]
    },
    {
      "cell_type": "code",
      "source": [
        "# prompt: RMSE\n",
        "\n",
        "# Calculate the root mean squared error (RMSE)\n",
        "rmse = math.sqrt(mse)\n",
        "print(f\"Root Mean Squared Error (RMSE): {rmse}\")\n"
      ],
      "metadata": {
        "colab": {
          "base_uri": "https://localhost:8080/"
        },
        "id": "O-va1GWv1Snw",
        "outputId": "58d558e4-df28-4bd7-a2e6-c6bf5842fdfd"
      },
      "execution_count": null,
      "outputs": [
        {
          "output_type": "stream",
          "name": "stdout",
          "text": [
            "Root Mean Squared Error (RMSE): 0.04388982742592334\n"
          ]
        }
      ]
    },
    {
      "cell_type": "code",
      "source": [
        "# prompt: r-square\n",
        "\n",
        "# Calculate the R-squared value\n",
        "r_squared = r2_score(y, y_pred)\n",
        "print(f\"R-squared: {r_squared}\")\n"
      ],
      "metadata": {
        "colab": {
          "base_uri": "https://localhost:8080/"
        },
        "id": "hEECCFIb1bE1",
        "outputId": "cae197b0-d408-4a52-8caa-45dee281aa4d"
      },
      "execution_count": null,
      "outputs": [
        {
          "output_type": "stream",
          "name": "stdout",
          "text": [
            "R-squared: 0.6140007334571589\n"
          ]
        }
      ]
    },
    {
      "cell_type": "code",
      "source": [
        "# prompt: MAE\n",
        "\n",
        "# Calculate the Mean Absolute Error (MAE)\n",
        "mae = mean_absolute_error(y, y_pred)\n",
        "print(f\"Mean Absolute Error (MAE): {mae}\")\n"
      ],
      "metadata": {
        "colab": {
          "base_uri": "https://localhost:8080/"
        },
        "id": "b0YkE8551f_5",
        "outputId": "1ce63080-b428-45e4-db62-f2b470fe2517"
      },
      "execution_count": null,
      "outputs": [
        {
          "output_type": "stream",
          "name": "stdout",
          "text": [
            "Mean Absolute Error (MAE): 0.022207201641967926\n"
          ]
        }
      ]
    },
    {
      "cell_type": "code",
      "source": [
        "# prompt: from the  data in the file give me linear regression between pickup_latitude and dropoff_latitude in python and also represent the title in that graph\n",
        "\n",
        "import matplotlib.pyplot as plt\n",
        "# Create a scatter plot\n",
        "plt.figure(figsize=(10, 6))\n",
        "sns.scatterplot(x='pickup_latitude', y='dropoff_latitude', data=df)\n",
        "\n",
        "# Fit a linear regression model\n",
        "df_cleaned = df.dropna(subset=['pickup_latitude', 'dropoff_latitude']) # drop rows with NaN in 'pickup_latitude' and 'dropoff_latitude'\n",
        "X = df_cleaned[['pickup_latitude']]\n",
        "y = df_cleaned['dropoff_latitude']\n",
        "model = LinearRegression()\n",
        "model.fit(X, y)\n",
        "\n",
        "# Plot the regression line\n",
        "plt.plot(X, model.predict(X), color='red')\n",
        "\n",
        "# Add title and labels\n",
        "plt.title('Linear Regression between Pickup Latitude and Dropoff Latitude')\n",
        "plt.xlabel('Pickup Latitude')\n",
        "plt.ylabel('Dropoff Latitude')\n",
        "\n",
        "plt.show()\n"
      ],
      "metadata": {
        "colab": {
          "base_uri": "https://localhost:8080/",
          "height": 564
        },
        "id": "9j4Mt2xq27Iu",
        "outputId": "b1848db6-d11c-4107-e541-ca3f1d6389bd"
      },
      "execution_count": null,
      "outputs": [
        {
          "output_type": "display_data",
          "data": {
            "text/plain": [
              "<Figure size 1000x600 with 1 Axes>"
            ],
            "image/png": "[encoded data removed]"
          },
          "metadata": {}
        }
      ]
    },
    {
      "cell_type": "code",
      "source": [
        "# prompt: MSE\n",
        "\n",
        "# Calculate the mean squared error (MSE)\n",
        "y_pred = model.predict(X)\n",
        "mse = mean_squared_error(y, y_pred)\n",
        "print(f\"Mean Squared Error (MSE): {mse}\")\n"
      ],
      "metadata": {
        "colab": {
          "base_uri": "https://localhost:8080/"
        },
        "id": "zYZbJjdr2c82",
        "outputId": "2179935a-858d-4191-f5df-8fff8150d617"
      },
      "execution_count": null,
      "outputs": [
        {
          "output_type": "stream",
          "name": "stdout",
          "text": [
            "Mean Squared Error (MSE): 0.0009737329646568174\n"
          ]
        }
      ]
    },
    {
      "cell_type": "code",
      "source": [
        "# prompt: r-square\n",
        "\n",
        "# Calculate the R-squared value\n",
        "r_squared = r2_score(y, y_pred)\n",
        "print(f\"R-squared: {r_squared}\")\n"
      ],
      "metadata": {
        "colab": {
          "base_uri": "https://localhost:8080/"
        },
        "id": "5Jtz-xRQ2tw0",
        "outputId": "c2101b32-4a6a-4cbe-ef83-dfa5b51b557a"
      },
      "execution_count": null,
      "outputs": [
        {
          "output_type": "stream",
          "name": "stdout",
          "text": [
            "R-squared: 0.2440730871795298\n"
          ]
        }
      ]
    },
    {
      "cell_type": "code",
      "source": [
        "# prompt: RMSE\n",
        "\n",
        "# Calculate the root mean squared error (RMSE)\n",
        "rmse = math.sqrt(mse)\n",
        "print(f\"Root Mean Squared Error (RMSE): {rmse}\")\n"
      ],
      "metadata": {
        "colab": {
          "base_uri": "https://localhost:8080/"
        },
        "id": "KNog5Wt_3fGT",
        "outputId": "4ed47e63-63e8-4b2b-a776-895d42bf5e91"
      },
      "execution_count": null,
      "outputs": [
        {
          "output_type": "stream",
          "name": "stdout",
          "text": [
            "Root Mean Squared Error (RMSE): 0.03120469459323096\n"
          ]
        }
      ]
    },
    {
      "cell_type": "code",
      "source": [
        "# prompt: MAE\n",
        "\n",
        "# Calculate the Mean Absolute Error (MAE)\n",
        "mae = mean_absolute_error(y, y_pred)\n",
        "print(f\"Mean Absolute Error (MAE): {mae}\")\n"
      ],
      "metadata": {
        "colab": {
          "base_uri": "https://localhost:8080/"
        },
        "id": "Q204mGcR3lch",
        "outputId": "9b2ff926-df00-4d55-944d-eaa4662292dc"
      },
      "execution_count": null,
      "outputs": [
        {
          "output_type": "stream",
          "name": "stdout",
          "text": [
            "Mean Absolute Error (MAE): 0.019906915926362102\n"
          ]
        }
      ]
    },
    {
      "cell_type": "code",
      "source": [
        "# prompt: from the above data in the file give me linear regression between pickup_longitude and dropoff_latitude in python and also represent the title in that graph\n",
        "\n",
        "import pandas as pd\n",
        "import matplotlib.pyplot as plt\n",
        "import seaborn as sns\n",
        "from sklearn.linear_model import LinearRegression\n",
        "\n",
        "# Create a scatter plot\n",
        "plt.figure(figsize=(10, 6))\n",
        "sns.scatterplot(x='pickup_longitude', y='dropoff_latitude', data=df)\n",
        "\n",
        "# Fit a linear regression model\n",
        "df_cleaned = df.dropna(subset=['pickup_longitude', 'dropoff_latitude']) # drop rows with NaN in 'pickup_longitude' and 'dropoff_latitude'\n",
        "X = df_cleaned[['pickup_longitude']]\n",
        "y = df_cleaned['dropoff_latitude']\n",
        "model = LinearRegression()\n",
        "model.fit(X, y)\n",
        "\n",
        "# Plot the regression line\n",
        "plt.plot(X, model.predict(X), color='red')\n",
        "\n",
        "# Add title and labels\n",
        "plt.title('Linear Regression between Pickup Longitude and Dropoff Latitude')\n",
        "plt.xlabel('Pickup Longitude')\n",
        "plt.ylabel('Dropoff Latitude')\n",
        "\n",
        "plt.show()\n"
      ],
      "metadata": {
        "colab": {
          "base_uri": "https://localhost:8080/",
          "height": 564
        },
        "id": "RN8m_6hS3ilJ",
        "outputId": "604ee2db-b5a6-422b-a1fa-94b597427aff"
      },
      "execution_count": null,
      "outputs": [
        {
          "output_type": "display_data",
          "data": {
            "text/plain": [
              "<Figure size 1000x600 with 1 Axes>"
            ],
            "image/png": "[encoded data removed]"
          },
          "metadata": {}
        }
      ]
    }
  ]
}